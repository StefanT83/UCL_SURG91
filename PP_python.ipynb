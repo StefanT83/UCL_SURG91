{
 "cells": [
  {
   "cell_type": "code",
   "execution_count": 9,
   "metadata": {},
   "outputs": [],
   "source": [
    "## load recorded data\n",
    "time        = [i for i in range(0,24)]; #[hour] 24-hour clock\n",
    "temperature = [36, 35.8, 36.2, 35.5, 35.8, 35.3, 35.5, 34.2, 35.7, 36.8, 36.1, 35.9, \n",
    "               34.1, 37.6, 37.7, 35, 34.2, 35.5, 36.8, 35.1, 34.9, 35.6, 36.5, 37.1]; #[degree Celsius] day1"
   ]
  },
  {
   "cell_type": "code",
   "execution_count": 17,
   "metadata": {},
   "outputs": [
    {
     "data": {
      "application/vnd.jupyter.widget-view+json": {
       "model_id": "e78febddf43843b5ab97f645b53b953c",
       "version_major": 2,
       "version_minor": 0
      },
      "text/plain": [
       "Canvas(toolbar=Toolbar(toolitems=[('Home', 'Reset original view', 'home', 'home'), ('Back', 'Back to previous …"
      ]
     },
     "metadata": {},
     "output_type": "display_data"
    },
    {
     "data": {
      "text/plain": [
       "(34.0, 39.0)"
      ]
     },
     "execution_count": 17,
     "metadata": {},
     "output_type": "execute_result"
    }
   ],
   "source": [
    "## section \"A plot and a table\"\n",
    "\n",
    "#ability to easily save + scale the figure \n",
    "%matplotlib widget\n",
    "\n",
    "import matplotlib.pyplot as plt\n",
    "plt.figure()\n",
    "plt.plot(time,temperature,'bo-')\n",
    "plt.plot([0,23],[38*i for i in [1,1]],'r--', label='high temperature');\n",
    "plt.grid()\n",
    "plt.legend(loc='upper right')\n",
    "plt.xlabel('Time [hour]')\n",
    "plt.ylabel('Temperature [$^o$C]')\n",
    "plt.ylim((34,39))\n"
   ]
  },
  {
   "cell_type": "code",
   "execution_count": 11,
   "metadata": {},
   "outputs": [
    {
     "name": "stdout",
     "output_type": "stream",
     "text": [
      "max= 37.7 \n",
      "min= 34.1 \n",
      "range= 3.6000000000000014\n"
     ]
    }
   ],
   "source": [
    "## section \"Maximum, minimum and range\"\n",
    "print('max=',     max(temperature), \n",
    "      '\\nmin=',   min(temperature), \n",
    "      '\\nrange=', max(temperature)-min(temperature), sep=\" \")"
   ]
  },
  {
   "cell_type": "code",
   "execution_count": 22,
   "metadata": {},
   "outputs": [
    {
     "name": "stdout",
     "output_type": "stream",
     "text": [
      "mean= 35.7875 \n",
      "median= 35.75 \n",
      "mode 35.5 \n",
      "============================\n",
      "\n"
     ]
    }
   ],
   "source": [
    "## section \"Mean, median, mode\"\n",
    "\n",
    "import statistics as sts\n",
    "print('mean=',     sts.mean(temperature),   \n",
    "      '\\nmedian=', sts.median(temperature),\n",
    "      '\\nmode',    sts.mode(temperature),\n",
    "      '\\n============================\\n'\n",
    "     )"
   ]
  },
  {
   "cell_type": "code",
   "execution_count": 13,
   "metadata": {},
   "outputs": [
    {
     "data": {
      "application/vnd.jupyter.widget-view+json": {
       "model_id": "085500a6ae7144bbafa328ae143ad8b6",
       "version_major": 2,
       "version_minor": 0
      },
      "text/plain": [
       "Canvas(toolbar=Toolbar(toolitems=[('Home', 'Reset original view', 'home', 'home'), ('Back', 'Back to previous …"
      ]
     },
     "metadata": {},
     "output_type": "display_data"
    },
    {
     "data": {
      "text/plain": [
       "<matplotlib.legend.Legend at 0x1acf12c8c48>"
      ]
     },
     "execution_count": 13,
     "metadata": {},
     "output_type": "execute_result"
    }
   ],
   "source": [
    "## section \"Mean, median, mode: visualization\"\n",
    "\n",
    "#ability to easily save + scale the figure \n",
    "%matplotlib widget\n",
    "\n",
    "import matplotlib.pyplot as plt\n",
    "import statistics as sts\n",
    "plt.figure()\n",
    "plt.plot(time,temperature,'bo-', label='')\n",
    "plt.plot([0,23],[sts.mean(temperature) for i in range(2)],'k-', linewidth=2, label='mean')\n",
    "plt.plot([0,23],[sts.median(temperature) for i in range(2)],'r-', linewidth=2, label='median')\n",
    "plt.plot([0,23],[sts.mode(temperature) for i in range(2)],'g-', linewidth=2, label='mode')\n",
    "plt.grid()\n",
    "plt.xlabel('Time [hour]')\n",
    "plt.ylabel('Temperature [$^o$C]')\n",
    "plt.legend()"
   ]
  },
  {
   "cell_type": "code",
   "execution_count": 24,
   "metadata": {},
   "outputs": [
    {
     "data": {
      "application/vnd.jupyter.widget-view+json": {
       "model_id": "801d5e94ab854d0ca5eb039247eb16e5",
       "version_major": 2,
       "version_minor": 0
      },
      "text/plain": [
       "Canvas(toolbar=Toolbar(toolitems=[('Home', 'Reset original view', 'home', 'home'), ('Back', 'Back to previous …"
      ]
     },
     "metadata": {},
     "output_type": "display_data"
    },
    {
     "data": {
      "text/plain": [
       "count    24.000000\n",
       "mean     35.787500\n",
       "std       0.974596\n",
       "min      34.100000\n",
       "25%      35.250000\n",
       "50%      35.750000\n",
       "75%      36.275000\n",
       "max      37.700000\n",
       "dtype: float64"
      ]
     },
     "execution_count": 24,
     "metadata": {},
     "output_type": "execute_result"
    }
   ],
   "source": [
    "## section \"Boxplot\"\n",
    "\n",
    "#var1\n",
    "#ability to easily save + scale the figure \n",
    "%matplotlib widget\n",
    "\n",
    "import matplotlib.pyplot as plt\n",
    "plt.figure()\n",
    "plt.boxplot(temperature)\n",
    "plt.ylabel('Temperature [$^o$C]')\n",
    "plt.ylim((34,39))\n",
    "plt.xlabel('Day')\n",
    "plt.grid()\n",
    "\n",
    "#var2\n",
    "import pandas as pd\n",
    "temperature_series = pd.Series(temperature)\n",
    "temperature_series.describe()"
   ]
  },
  {
   "cell_type": "code",
   "execution_count": 21,
   "metadata": {},
   "outputs": [
    {
     "data": {
      "application/vnd.jupyter.widget-view+json": {
       "model_id": "6f5787751d2040808c2c9ef3748f19da",
       "version_major": 2,
       "version_minor": 0
      },
      "text/plain": [
       "Canvas(toolbar=Toolbar(toolitems=[('Home', 'Reset original view', 'home', 'home'), ('Back', 'Back to previous …"
      ]
     },
     "metadata": {},
     "output_type": "display_data"
    },
    {
     "data": {
      "text/plain": [
       "<matplotlib.legend.Legend at 0x1acf2df40c8>"
      ]
     },
     "execution_count": 21,
     "metadata": {},
     "output_type": "execute_result"
    }
   ],
   "source": [
    "## section \"Variance, standard deviation\"\n",
    "\n",
    "#ability to easily save + scale the figure \n",
    "%matplotlib widget\n",
    "\n",
    "import matplotlib.pyplot as plt\n",
    "import statistics as sts\n",
    "plt.figure()\n",
    "plt.plot(time,temperature,'bo-', label='data x')\n",
    "\n",
    "m = round(sts.mean(temperature),ndigits=1) #mean\n",
    "plt.plot([0,23],[m for i in range(2)],'k-', linewidth=2, label='mean $\\mu=$'+str(m))\n",
    "\n",
    "mps = round(sts.mean(temperature)+sts.stdev(temperature),ndigits=1); # mu + sigma\n",
    "plt.plot([0,23],[mps for i in range(2)],'k--', linewidth=2, label='$\\mu+\\sigma=$'+str(mps))\n",
    "\n",
    "mms = round(sts.mean(temperature)-sts.stdev(temperature),ndigits=1); # mu - sigma\n",
    "plt.plot([0,23],[mms for i in range(2)],'k--', linewidth=2, label='$\\mu-\\sigma=$'+str(mms))\n",
    "\n",
    "plt.grid()\n",
    "plt.xlabel('Time [hour]')\n",
    "plt.ylabel('Temperature [$^o$C]')\n",
    "plt.ylim((34,39))\n",
    "plt.legend()"
   ]
  },
  {
   "cell_type": "code",
   "execution_count": 37,
   "metadata": {},
   "outputs": [
    {
     "data": {
      "application/vnd.jupyter.widget-view+json": {
       "model_id": "72a344856aa54995bc046c19d4ce03ea",
       "version_major": 2,
       "version_minor": 0
      },
      "text/plain": [
       "Canvas(toolbar=Toolbar(toolitems=[('Home', 'Reset original view', 'home', 'home'), ('Back', 'Back to previous …"
      ]
     },
     "metadata": {},
     "output_type": "display_data"
    },
    {
     "data": {
      "text/plain": [
       "(34.0, 39.0)"
      ]
     },
     "execution_count": 37,
     "metadata": {},
     "output_type": "execute_result"
    }
   ],
   "source": [
    "##\n",
    "import pandas as pd\n",
    "\n",
    "temperature_df = pd.DataFrame(list(zip(time,temperature)))\n",
    "temperature_df.columns = ['Time','Temperature']\n",
    "temperature_df.hist(column='Temperature',bins=6)\n",
    "plt.xlim((34,39))\n"
   ]
  },
  {
   "cell_type": "code",
   "execution_count": null,
   "metadata": {},
   "outputs": [],
   "source": [
    "%% section \"Probability distribution (PDF)\""
   ]
  },
  {
   "cell_type": "code",
   "execution_count": null,
   "metadata": {},
   "outputs": [],
   "source": []
  },
  {
   "cell_type": "code",
   "execution_count": null,
   "metadata": {},
   "outputs": [],
   "source": []
  },
  {
   "cell_type": "code",
   "execution_count": 16,
   "metadata": {},
   "outputs": [
    {
     "data": {
      "application/vnd.jupyter.widget-view+json": {
       "model_id": "49aab74dafca4d6bb59980cbd482610b",
       "version_major": 2,
       "version_minor": 0
      },
      "text/plain": [
       "Canvas(toolbar=Toolbar(toolitems=[('Home', 'Reset original view', 'home', 'home'), ('Back', 'Back to previous …"
      ]
     },
     "metadata": {},
     "output_type": "display_data"
    },
    {
     "data": {
      "application/vnd.jupyter.widget-view+json": {
       "model_id": "ac0760e13dec43a39ddb0948d22fa3ed",
       "version_major": 2,
       "version_minor": 0
      },
      "text/plain": [
       "Canvas(toolbar=Toolbar(toolitems=[('Home', 'Reset original view', 'home', 'home'), ('Back', 'Back to previous …"
      ]
     },
     "metadata": {},
     "output_type": "display_data"
    },
    {
     "data": {
      "application/vnd.jupyter.widget-view+json": {
       "model_id": "133b3023a3d54a06821f46eacffb5b08",
       "version_major": 2,
       "version_minor": 0
      },
      "text/plain": [
       "Canvas(toolbar=Toolbar(toolitems=[('Home', 'Reset original view', 'home', 'home'), ('Back', 'Back to previous …"
      ]
     },
     "metadata": {},
     "output_type": "display_data"
    }
   ],
   "source": [
    "## slide \"Simple linear regression\"\n",
    "x1 = temperature #day1\n",
    "x2 = [34.9, 35.7, 35.9, 37.0, 34.3, 34.5, 35.0, 34.3, 34.9, 38.2, 35.2, 36, \n",
    "      34.6, 38.8, 36.8, 34.2, 34.9, 36.8, 36.9, 36.6, 35.9, 35.5, 36.7, 36.7] #day2\n",
    "\n",
    "#ability to easily save + scale the figure \n",
    "%matplotlib widget\n",
    "\n",
    "import matplotlib.pyplot as plt\n",
    "#chooseaxis_vals\n",
    "axis_vals = (33, 39); \n",
    "\n",
    "plt.figure()\n",
    "plt.plot(x1, x2, 'o')\n",
    "plt.axis('square')\n",
    "plt.xlim(axis_vals)\n",
    "plt.ylim(axis_vals)\n",
    "plt.xlabel('$x_1$ [$^o$C]')\n",
    "plt.ylabel('$x_2$ [$^o$C]')\n",
    "plt.grid()\n",
    "\n",
    "plt.figure()\n",
    "import seaborn as sns\n",
    "ax = sns.regplot(x1, x2,ci=None) #\n",
    "plt.axis('square')\n",
    "ax.set(xlim=axis_vals, ylim=axis_vals, xlabel='$x_1$ [$^o$C]', ylabel='$x_2$ [$^o$C]')    \n",
    "plt.grid()\n",
    "\n",
    "plt.figure()\n",
    "import seaborn as sns\n",
    "ax = sns.regplot(x1, x2) #\n",
    "plt.axis('square')\n",
    "ax.set(xlim=axis_vals, ylim=axis_vals, xlabel='$x_1$ [$^o$C]', ylabel='$x_2$ [$^o$C]')    \n",
    "plt.grid()    \n"
   ]
  }
 ],
 "metadata": {
  "kernelspec": {
   "display_name": "Python 3",
   "language": "python",
   "name": "python3"
  },
  "language_info": {
   "codemirror_mode": {
    "name": "ipython",
    "version": 3
   },
   "file_extension": ".py",
   "mimetype": "text/x-python",
   "name": "python",
   "nbconvert_exporter": "python",
   "pygments_lexer": "ipython3",
   "version": "3.7.7"
  }
 },
 "nbformat": 4,
 "nbformat_minor": 4
}
