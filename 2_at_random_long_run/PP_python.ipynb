{
 "cells": [
  {
   "cell_type": "code",
   "execution_count": 1,
   "metadata": {},
   "outputs": [
    {
     "data": {
      "application/vnd.jupyter.widget-view+json": {
       "model_id": "473b3332f22a48348f6277abf9948044",
       "version_major": 2,
       "version_minor": 0
      },
      "text/plain": [
       "Canvas(toolbar=Toolbar(toolitems=[('Home', 'Reset original view', 'home', 'home'), ('Back', 'Back to previous …"
      ]
     },
     "metadata": {},
     "output_type": "display_data"
    }
   ],
   "source": [
    "import matplotlib.pyplot as plt\n",
    "import numpy as np\n",
    "import random\n",
    "import seaborn as sns\n",
    "\n",
    "#choose\n",
    "n_rep = 6_000\n",
    "\n",
    "rolls = [random.randrange(1,7) for i in range(n_rep)]\n",
    "values, frequencies = np.unique(rolls, return_counts=True)\n",
    "\n",
    "#ability to easily save + scale the figure \n",
    "%matplotlib widget\n",
    "\n",
    "sns.set_style('whitegrid')\n",
    "axes = sns.barplot(x=values, y=frequencies, palette='bright')\n",
    "#axes.set_title(title)\n",
    "axes.set(xlabel='Face up of the dice',title='Rolling a six-sided dice '+str(n_rep)+' times',ylabel='Frequency')\n",
    "axes.set_ylim(top=max(frequencies)*1.1)\n",
    "for bar,frequency in zip(axes.patches, frequencies):\n",
    "    text_x = bar.get_x() +  bar.get_width()/2.0\n",
    "    text_y = bar.get_y() + bar.get_height()\n",
    "    text = f'{frequency:,}\\n{frequency / len(rolls):.3%}'\n",
    "    axes.text(text_x, text_y, text, fontsize=11, ha='center', va='bottom')"
   ]
  }
 ],
 "metadata": {
  "kernelspec": {
   "display_name": "Python 3",
   "language": "python",
   "name": "python3"
  },
  "language_info": {
   "codemirror_mode": {
    "name": "ipython",
    "version": 3
   },
   "file_extension": ".py",
   "mimetype": "text/x-python",
   "name": "python",
   "nbconvert_exporter": "python",
   "pygments_lexer": "ipython3",
   "version": "3.7.7"
  }
 },
 "nbformat": 4,
 "nbformat_minor": 4
}
